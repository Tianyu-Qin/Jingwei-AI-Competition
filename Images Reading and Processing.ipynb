{
 "cells": [
  {
   "cell_type": "code",
   "execution_count": 1,
   "metadata": {},
   "outputs": [],
   "source": [
    "from torch.utils.data import Dataset, DataLoader\n",
    "from PIL import Image,ImageEnhance\n",
    "from osgeo import gdal\n",
    "from torchvision import transforms\n",
    "import glob\n",
    "import torch as tc\n",
    "import numpy as np"
   ]
  },
  {
   "cell_type": "code",
   "execution_count": 2,
   "metadata": {},
   "outputs": [],
   "source": [
    "class FarmDataset(Dataset):\n",
    "    def __init__(self, istrain=True, isaug=True, isval=False, istest=False):\n",
    "        self.istrain = istrain\n",
    "        self.isval = isval\n",
    "        self.istest = istest\n",
    "        self.isaug = isaug\n",
    "        self.trainxformat = './data/train/data1024/*.png'\n",
    "        self.trainyformat = './data/train/label1024/*.png'\n",
    "        self.valxformat = './data/val/data1024/*.png'\n",
    "        self.valyformat = './data/val/label1024/*.png'\n",
    "        self.testxformat = './data/test/*.png'\n",
    "        if istrain:\n",
    "            self.fns = glob.glob(self.trainxformat)\n",
    "        elif isval:\n",
    "            self.fns = glob.glob(self.valxformat)\n",
    "        else: \n",
    "            self.fns = glob.glob(self.testxformat)\n",
    "        self.length = len(self.fns)\n",
    "        self.transforms = transforms\n",
    "        \n",
    "         \n",
    "    def __len__(self):\n",
    "        return self.length\n",
    "    \n",
    "    def __getitem__(self, idx):\n",
    "        \n",
    "        if self.istrain:        \n",
    "            imgxname = self.fns[idx]\n",
    "            sampleimg = Image.open(imgxname)\n",
    "            imgyname = imgxname.replace('data1024','label1024')\n",
    "            targetimg = Image.open(imgyname).convert('L')\n",
    "             \n",
    "            # Data augmentation for training images\n",
    "            if self.isaug:\n",
    "                sampleimg, targetimg = self.imgtrans(sampleimg, targetimg)\n",
    "             \n",
    "            sampleimg = transforms.ToTensor()(sampleimg)\n",
    "            targetimg = np.array(targetimg)\n",
    "            targetimg = tc.from_numpy(targetimg).long()         # To tensor\n",
    "\n",
    "            return sampleimg, targetimg\n",
    "        \n",
    "        elif self.isval:\n",
    "            imgxname = self.fns[idx]\n",
    "            sampleimg = Image.open(imgxname)\n",
    "            imgyname = imgxname.replace('data1024','label1024')\n",
    "            targetimg = Image.open(imgyname).convert('L')\n",
    "             \n",
    "            sampleimg = transforms.ToTensor()(sampleimg)\n",
    "            targetimg = np.array(targetimg)\n",
    "            targetimg = tc.from_numpy(targetimg).long()         # To tensor\n",
    "            \n",
    "            return sampleimg,targetimg           \n",
    "        \n",
    "        else:\n",
    "            # Just open the test image for prediction, no need to cut\n",
    "            return gdal.Open(self.fns[idx])\n",
    "        \n",
    "    def imgtrans(self, x, y, outsize=512):\n",
    "        '''input is a PIL image\n",
    "           do image data augumentation\n",
    "           return a PIL image。\n",
    "        '''\n",
    "        # Rotate should consider y\n",
    "        degree = np.random.randint(360)\n",
    "        x = x.rotate(degree,resample=Image.NEAREST,fillcolor=0)\n",
    "        y = y.rotate(degree,resample=Image.NEAREST,fillcolor=0)  \n",
    "         \n",
    "        # Random do the input image augmentation\n",
    "        if np.random.random()>0.5:\n",
    "            # Sharpness\n",
    "            factor = 0.5+np.random.random()\n",
    "            enhancer = ImageEnhance.Sharpness(x)\n",
    "            x = enhancer.enhance(factor)\n",
    "        if np.random.random()>0.5:\n",
    "            # Color augument\n",
    "            factor = 0.5+np.random.random()\n",
    "            enhancer = ImageEnhance.Color(x)\n",
    "            x = enhancer.enhance(factor)\n",
    "        if np.random.random()>0.5:\n",
    "            # Contrast augument\n",
    "            factor = 0.5+np.random.random()\n",
    "            enhancer = ImageEnhance.Contrast(x)\n",
    "            x = enhancer.enhance(factor)\n",
    "        if np.random.random()>0.5:\n",
    "            # Brightness\n",
    "            factor = 0.5+np.random.random()\n",
    "            enhancer = ImageEnhance.Brightness(x)\n",
    "            x = enhancer.enhance(factor)\n",
    "         \n",
    "        # Image flip\n",
    "        transtypes = [Image.FLIP_LEFT_RIGHT, Image.FLIP_TOP_BOTTOM, Image.ROTATE_90, Image.ROTATE_180, Image.ROTATE_270]\n",
    "        transtype = transtypes[np.random.randint(len(transtypes))]\n",
    "        x = x.transpose(transtype)\n",
    "        y = y.transpose(transtype)\n",
    "         \n",
    "        return x,y   # Return pil image"
   ]
  },
  {
   "cell_type": "code",
   "execution_count": 5,
   "metadata": {},
   "outputs": [
    {
     "name": "stdout",
     "output_type": "stream",
     "text": [
      "11493\n",
      "torch.Size([3, 1024, 1024])\n",
      "torch.Size([1024, 1024])\n"
     ]
    }
   ],
   "source": [
    "d = FarmDataset(istrain=True, isval=False)\n",
    "print(len(d))\n",
    "x,y=d[5]\n",
    "print(x.shape)\n",
    "print(y.shape)"
   ]
  },
  {
   "cell_type": "code",
   "execution_count": null,
   "metadata": {},
   "outputs": [],
   "source": []
  },
  {
   "cell_type": "code",
   "execution_count": null,
   "metadata": {},
   "outputs": [],
   "source": []
  },
  {
   "cell_type": "code",
   "execution_count": null,
   "metadata": {},
   "outputs": [],
   "source": []
  },
  {
   "cell_type": "code",
   "execution_count": null,
   "metadata": {},
   "outputs": [],
   "source": []
  },
  {
   "cell_type": "code",
   "execution_count": null,
   "metadata": {},
   "outputs": [],
   "source": []
  },
  {
   "cell_type": "code",
   "execution_count": null,
   "metadata": {},
   "outputs": [],
   "source": []
  },
  {
   "cell_type": "code",
   "execution_count": null,
   "metadata": {},
   "outputs": [],
   "source": []
  }
 ],
 "metadata": {
  "kernelspec": {
   "display_name": "Python 3",
   "language": "python",
   "name": "python3"
  },
  "language_info": {
   "codemirror_mode": {
    "name": "ipython",
    "version": 3
   },
   "file_extension": ".py",
   "mimetype": "text/x-python",
   "name": "python",
   "nbconvert_exporter": "python",
   "pygments_lexer": "ipython3",
   "version": "3.7.3"
  }
 },
 "nbformat": 4,
 "nbformat_minor": 2
}
