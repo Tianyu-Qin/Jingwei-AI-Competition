{
 "cells": [
  {
   "cell_type": "code",
   "execution_count": 1,
   "metadata": {},
   "outputs": [],
   "source": [
    "import torch\n",
    "import torch.nn as nn\n",
    "import torch.nn.functional as F\n",
    "import torch.optim as optim\n",
    "from farmdataset import FarmDataset\n",
    "import time\n",
    "from PIL import Image\n",
    "from torch.autograd import Variable\n",
    "import numpy as np\n",
    "import glob\n",
    "import cv2"
   ]
  },
  {
   "cell_type": "code",
   "execution_count": 2,
   "metadata": {},
   "outputs": [],
   "source": [
    "label1, label2, label3, label4 = [], [], [], []\n",
    "imgname = glob.glob('./data/train/data1024/*.png')\n",
    "labelname = glob.glob('./data/train/label1024/*.png')\n",
    "for i in range(len(imgname)):\n",
    "    img = cv2.imread(imgname[i])\n",
    "    label = cv2.imread(labelname[i], cv2.IMREAD_GRAYSCALE)\n",
    "    for j in range(img.shape[0]):\n",
    "        for k in range(img.shape[1]):\n",
    "            if np.all(img[j][k] == 0):\n",
    "                continue\n",
    "\n",
    "            if label[j][k] == 1 and len(label1) < 10e5:\n",
    "                label1.append(img[j][k])\n",
    "            elif label[j][k] == 2 and len(label2) < 10e5:\n",
    "                label2.append(img[j][k])\n",
    "            elif label[j][k] == 3 and len(label3) < 10e5:\n",
    "                label3.append(img[j][k])\n",
    "            elif label[j][k] == 4 and len(label4) < 10e5:\n",
    "                label4.append(img[j][k])\n",
    "                \n",
    "        if len(label1) == 10e5 and len(label2) == 10e5 and len(label3) == 10e5 and len(label4) == 10e5:\n",
    "            break"
   ]
  },
  {
   "cell_type": "code",
   "execution_count": null,
   "metadata": {},
   "outputs": [],
   "source": []
  },
  {
   "cell_type": "code",
   "execution_count": 3,
   "metadata": {},
   "outputs": [],
   "source": [
    "B1, G1, R1 = [], [], []\n",
    "for l in label1:\n",
    "    B1.append(l[0])\n",
    "    G1.append(l[1])\n",
    "    R1.append(l[2])\n",
    "    \n",
    "B2, G2, R2 = [], [], []\n",
    "for l in label2:\n",
    "    B2.append(l[0])\n",
    "    G2.append(l[1])\n",
    "    R2.append(l[2])\n",
    "    \n",
    "B3, G3, R3 = [], [], []\n",
    "for l in label3:\n",
    "    B3.append(l[0])\n",
    "    G3.append(l[1])\n",
    "    R3.append(l[2])\n",
    "    \n",
    "B4, G4, R4 = [], [], []\n",
    "for l in label4:\n",
    "    B4.append(l[0])\n",
    "    G4.append(l[1])\n",
    "    R4.append(l[2])"
   ]
  },
  {
   "cell_type": "code",
   "execution_count": 7,
   "metadata": {},
   "outputs": [
    {
     "data": {
      "text/plain": [
       "(array([   70.,   230.,   432.,   837.,  1681.,  2145.,  2725.,  3124.,\n",
       "         3785.,  3586.,  4167.,  4971.,  6574.,  8510.,  9228., 10440.,\n",
       "        13966., 12856., 13992., 14652., 15758., 17526., 19183., 21793.,\n",
       "        28265., 35723., 38288., 37889., 36843., 31864., 26160., 21347.,\n",
       "        20926., 28004., 28790., 32304., 31967., 22446., 19103., 18747.,\n",
       "        18031., 16858., 17808., 22677., 31145., 44414., 53252., 52238.,\n",
       "        38275., 54405.]),\n",
       " array([  2.  ,   7.06,  12.12,  17.18,  22.24,  27.3 ,  32.36,  37.42,\n",
       "         42.48,  47.54,  52.6 ,  57.66,  62.72,  67.78,  72.84,  77.9 ,\n",
       "         82.96,  88.02,  93.08,  98.14, 103.2 , 108.26, 113.32, 118.38,\n",
       "        123.44, 128.5 , 133.56, 138.62, 143.68, 148.74, 153.8 , 158.86,\n",
       "        163.92, 168.98, 174.04, 179.1 , 184.16, 189.22, 194.28, 199.34,\n",
       "        204.4 , 209.46, 214.52, 219.58, 224.64, 229.7 , 234.76, 239.82,\n",
       "        244.88, 249.94, 255.  ]),\n",
       " <a list of 1 Patch objects>)"
      ]
     },
     "execution_count": 7,
     "metadata": {},
     "output_type": "execute_result"
    },
    {
     "data": {
      "image/png": "[encoded data removed]",
      "text/plain": [
       "<Figure size 432x288 with 1 Axes>"
      ]
     },
     "metadata": {
      "needs_background": "light"
     },
     "output_type": "display_data"
    }
   ],
   "source": [
    "import matplotlib.pyplot as plt\n",
    "\n",
    "plt.figure()\n",
    "plt.hist(R1, bins = 50, color = 'r', histtype = 'step', stacked =True)\n",
    "plt.hist(R2, bins = 50, color = 'g', histtype = 'step', stacked =True)\n",
    "plt.hist(R3, bins = 50, color = 'b', histtype = 'step', stacked =True)\n",
    "plt.hist(R4, bins = 50, color = 'y', histtype = 'step', stacked =True)"
   ]
  },
  {
   "cell_type": "code",
   "execution_count": null,
   "metadata": {},
   "outputs": [],
   "source": []
  },
  {
   "cell_type": "code",
   "execution_count": null,
   "metadata": {},
   "outputs": [],
   "source": []
  },
  {
   "cell_type": "code",
   "execution_count": null,
   "metadata": {},
   "outputs": [],
   "source": []
  },
  {
   "cell_type": "code",
   "execution_count": null,
   "metadata": {},
   "outputs": [],
   "source": []
  },
  {
   "cell_type": "code",
   "execution_count": null,
   "metadata": {},
   "outputs": [],
   "source": []
  },
  {
   "cell_type": "code",
   "execution_count": null,
   "metadata": {},
   "outputs": [],
   "source": []
  },
  {
   "cell_type": "code",
   "execution_count": null,
   "metadata": {},
   "outputs": [],
   "source": []
  },
  {
   "cell_type": "code",
   "execution_count": null,
   "metadata": {},
   "outputs": [],
   "source": []
  },
  {
   "cell_type": "code",
   "execution_count": null,
   "metadata": {},
   "outputs": [],
   "source": []
  },
  {
   "cell_type": "code",
   "execution_count": null,
   "metadata": {},
   "outputs": [],
   "source": []
  },
  {
   "cell_type": "code",
   "execution_count": null,
   "metadata": {},
   "outputs": [],
   "source": []
  }
 ],
 "metadata": {
  "kernelspec": {
   "display_name": "Python 3",
   "language": "python",
   "name": "python3"
  },
  "language_info": {
   "codemirror_mode": {
    "name": "ipython",
    "version": 3
   },
   "file_extension": ".py",
   "mimetype": "text/x-python",
   "name": "python",
   "nbconvert_exporter": "python",
   "pygments_lexer": "ipython3",
   "version": "3.7.3"
  }
 },
 "nbformat": 4,
 "nbformat_minor": 2
}
