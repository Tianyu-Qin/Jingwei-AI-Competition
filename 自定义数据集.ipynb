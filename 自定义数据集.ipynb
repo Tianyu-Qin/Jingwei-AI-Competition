{
 "cells": [
  {
   "cell_type": "code",
   "execution_count": 1,
   "metadata": {},
   "outputs": [],
   "source": [
    "from torch.utils.data import Dataset, DataLoader\n",
    "from PIL import Image,ImageEnhance\n",
    "import gdal\n",
    "from torchvision import transforms\n",
    "import glob\n",
    "import torch as tc\n",
    "import numpy as np"
   ]
  },
  {
   "cell_type": "code",
   "execution_count": 2,
   "metadata": {},
   "outputs": [],
   "source": [
    "class FarmDataset():\n",
    "    def __init__(self,istrain=True,isaug=True):\n",
    "        self.istrain=istrain\n",
    "        self.trainxformat='./data/train/data600/*.bmp'\n",
    "        self.trainyformat='./data/train/label600/*.bmp'\n",
    "        self.testxformat='./data/test/*.png'\n",
    "        self.fns=glob.glob(self.trainxformat) if istrain else glob.glob(self.testxformat)\n",
    "        self.length=len(self.fns)\n",
    "        self.transforms=transforms\n",
    "        self.isaug=isaug\n",
    "         \n",
    "    def __len__(self):\n",
    "        #total length is 2217\n",
    "        return self.length\n",
    "    \n",
    "    def __getitem__(self,idx):\n",
    "        \n",
    "        if self.istrain:\n",
    "            imgxname=self.fns[idx]\n",
    "            sampleimg = Image.open(imgxname)\n",
    "            imgyname=imgxname.replace('data600','label600')\n",
    "            targetimg = Image.open(imgyname).convert('L')\n",
    "#             sampleimg.save('original.bmp')\n",
    "             \n",
    "            #data augmentation\n",
    "            if self.isaug:\n",
    "                sampleimg,targetimg=self.imgtrans(sampleimg,targetimg)\n",
    "             \n",
    "            #check the result of dataautmentation\n",
    "#             sampleimg.save('sampletmp.bmp')\n",
    "#             targetimg.save('targettmp.bmp')\n",
    "             \n",
    "            sampleimg=transforms.ToTensor()(sampleimg)\n",
    "            #targetimg=transforms.ToTensor()(targetimg).squeeze(0).long()\n",
    "            targetimg=np.array(targetimg)\n",
    "            targetimg=tc.from_numpy(targetimg).long()         #to tensor\n",
    "            #print(sampleimg.shape,targetimg.shape)\n",
    "            return sampleimg,targetimg\n",
    "        else:\n",
    "            return gdal.Open(self.fns[idx])\n",
    "        \n",
    "    def imgtrans(self, x, y, outsize=512):\n",
    "        '''input is a PIL image\n",
    "           image dataaugumentation\n",
    "           return also aPIL image。\n",
    "        '''\n",
    "        #rotate should consider y\n",
    "        degree=np.random.randint(360)\n",
    "        x=x.rotate(degree,resample=Image.NEAREST,fillcolor=0)\n",
    "        y=y.rotate(degree,resample=Image.NEAREST,fillcolor=0)  #here should be carefull, in case of label damage\n",
    "         \n",
    "        #random do the input image augmentation\n",
    "        if np.random.random()>0.5:\n",
    "            #sharpness\n",
    "            factor=0.5+np.random.random()\n",
    "            enhancer=ImageEnhance.Sharpness(x)\n",
    "            x=enhancer.enhance(factor)\n",
    "            \n",
    "        if np.random.random()>0.5:\n",
    "            #color augument\n",
    "            factor=0.5+np.random.random()\n",
    "            enhancer=ImageEnhance.Color(x)\n",
    "            x=enhancer.enhance(factor)\n",
    "            \n",
    "        if np.random.random()>0.5:\n",
    "            #contrast augument\n",
    "            factor=0.5+np.random.random()\n",
    "            enhancer=ImageEnhance.Contrast(x)\n",
    "            x=enhancer.enhance(factor)\n",
    "            \n",
    "        if np.random.random()>0.5:\n",
    "            #brightness\n",
    "            factor=0.5+np.random.random()\n",
    "            enhancer=ImageEnhance.Brightness(x)\n",
    "            x=enhancer.enhance(factor)\n",
    "         \n",
    "        #img flip\n",
    "        transtypes=[Image.FLIP_LEFT_RIGHT,Image.FLIP_TOP_BOTTOM,\n",
    "                Image.ROTATE_90,Image.ROTATE_180,Image.ROTATE_270]\n",
    "        transtype=transtypes[np.random.randint(len(transtypes))]\n",
    "        x = x.transpose(transtype)\n",
    "        y = y.transpose(transtype)\n",
    "         \n",
    "        #img resize between 0.9-1.1\n",
    "        w,h=x.size\n",
    "        factor=1+np.random.normal()/5\n",
    "        if factor>1.1: factor=1.1\n",
    "        if factor<0.9: factor=0.9\n",
    "        #print(factor,x.size)\n",
    "        x=x.resize((int(w*factor),int(h*factor)),Image.NEAREST)\n",
    "        y=y.resize((int(w*factor),int(h*factor)),Image.NEAREST)\n",
    "         \n",
    "        #random crop\n",
    "        w,h=x.size\n",
    "        stx=np.random.randint(w-outsize)\n",
    "        sty=np.random.randint(h-outsize)\n",
    "        #print((stx,sty,outsize,outsize))\n",
    "        x=x.crop((stx,sty,stx+outsize,sty+outsize)) #stx,sty,width,height\n",
    "        y=y.crop((stx,sty,stx+outsize,sty+outsize))\n",
    "        #print(x.size,y.size)\n",
    "        return x,y   #return outsized pil image"
   ]
  },
  {
   "cell_type": "code",
   "execution_count": 3,
   "metadata": {},
   "outputs": [
    {
     "name": "stdout",
     "output_type": "stream",
     "text": [
      "torch.Size([3, 512, 512])\n",
      "torch.Size([512, 512])\n"
     ]
    }
   ],
   "source": [
    "d=FarmDataset(istrain=True)\n",
    "x,y=d[2216]\n",
    "print(x.shape)\n",
    "print(y.shape)"
   ]
  },
  {
   "cell_type": "code",
   "execution_count": null,
   "metadata": {},
   "outputs": [],
   "source": []
  },
  {
   "cell_type": "code",
   "execution_count": null,
   "metadata": {},
   "outputs": [],
   "source": []
  },
  {
   "cell_type": "code",
   "execution_count": null,
   "metadata": {},
   "outputs": [],
   "source": []
  },
  {
   "cell_type": "code",
   "execution_count": null,
   "metadata": {},
   "outputs": [],
   "source": []
  },
  {
   "cell_type": "code",
   "execution_count": null,
   "metadata": {},
   "outputs": [],
   "source": []
  },
  {
   "cell_type": "code",
   "execution_count": null,
   "metadata": {},
   "outputs": [],
   "source": []
  },
  {
   "cell_type": "code",
   "execution_count": null,
   "metadata": {},
   "outputs": [],
   "source": []
  },
  {
   "cell_type": "code",
   "execution_count": null,
   "metadata": {},
   "outputs": [],
   "source": []
  },
  {
   "cell_type": "code",
   "execution_count": null,
   "metadata": {},
   "outputs": [],
   "source": []
  },
  {
   "cell_type": "code",
   "execution_count": null,
   "metadata": {},
   "outputs": [],
   "source": []
  },
  {
   "cell_type": "code",
   "execution_count": null,
   "metadata": {},
   "outputs": [],
   "source": []
  },
  {
   "cell_type": "code",
   "execution_count": null,
   "metadata": {},
   "outputs": [],
   "source": []
  },
  {
   "cell_type": "code",
   "execution_count": null,
   "metadata": {},
   "outputs": [],
   "source": []
  },
  {
   "cell_type": "code",
   "execution_count": null,
   "metadata": {},
   "outputs": [],
   "source": []
  },
  {
   "cell_type": "code",
   "execution_count": null,
   "metadata": {},
   "outputs": [],
   "source": []
  },
  {
   "cell_type": "code",
   "execution_count": null,
   "metadata": {},
   "outputs": [],
   "source": []
  },
  {
   "cell_type": "code",
   "execution_count": null,
   "metadata": {},
   "outputs": [],
   "source": []
  },
  {
   "cell_type": "code",
   "execution_count": null,
   "metadata": {},
   "outputs": [],
   "source": []
  },
  {
   "cell_type": "code",
   "execution_count": null,
   "metadata": {},
   "outputs": [],
   "source": []
  },
  {
   "cell_type": "code",
   "execution_count": null,
   "metadata": {},
   "outputs": [],
   "source": []
  },
  {
   "cell_type": "code",
   "execution_count": null,
   "metadata": {},
   "outputs": [],
   "source": []
  },
  {
   "cell_type": "code",
   "execution_count": null,
   "metadata": {},
   "outputs": [],
   "source": []
  },
  {
   "cell_type": "code",
   "execution_count": null,
   "metadata": {},
   "outputs": [],
   "source": []
  },
  {
   "cell_type": "code",
   "execution_count": null,
   "metadata": {},
   "outputs": [],
   "source": []
  },
  {
   "cell_type": "code",
   "execution_count": null,
   "metadata": {},
   "outputs": [],
   "source": []
  },
  {
   "cell_type": "code",
   "execution_count": null,
   "metadata": {},
   "outputs": [],
   "source": []
  },
  {
   "cell_type": "code",
   "execution_count": null,
   "metadata": {},
   "outputs": [],
   "source": []
  },
  {
   "cell_type": "code",
   "execution_count": null,
   "metadata": {},
   "outputs": [],
   "source": []
  },
  {
   "cell_type": "code",
   "execution_count": null,
   "metadata": {},
   "outputs": [],
   "source": []
  },
  {
   "cell_type": "code",
   "execution_count": null,
   "metadata": {},
   "outputs": [],
   "source": []
  },
  {
   "cell_type": "code",
   "execution_count": null,
   "metadata": {},
   "outputs": [],
   "source": []
  },
  {
   "cell_type": "code",
   "execution_count": null,
   "metadata": {},
   "outputs": [],
   "source": []
  },
  {
   "cell_type": "code",
   "execution_count": null,
   "metadata": {},
   "outputs": [],
   "source": []
  },
  {
   "cell_type": "code",
   "execution_count": null,
   "metadata": {},
   "outputs": [],
   "source": []
  }
 ],
 "metadata": {
  "kernelspec": {
   "display_name": "Python 3",
   "language": "python",
   "name": "python3"
  },
  "language_info": {
   "codemirror_mode": {
    "name": "ipython",
    "version": 3
   },
   "file_extension": ".py",
   "mimetype": "text/x-python",
   "name": "python",
   "nbconvert_exporter": "python",
   "pygments_lexer": "ipython3",
   "version": "3.7.3"
  }
 },
 "nbformat": 4,
 "nbformat_minor": 2
}
