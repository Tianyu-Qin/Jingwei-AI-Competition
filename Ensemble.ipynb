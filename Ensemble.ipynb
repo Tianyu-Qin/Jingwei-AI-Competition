{
 "cells": [
  {
   "cell_type": "code",
   "execution_count": 1,
   "metadata": {},
   "outputs": [],
   "source": [
    "import os\n",
    "import cv2\n",
    "import torch\n",
    "import torch.nn as nn\n",
    "import torch.nn.functional as F\n",
    "import torch.optim as optim\n",
    "from farmdataset import FarmDataset\n",
    "from nestedunet import NestedUNet\n",
    "from vggunet import VggUNet\n",
    "import segmentation_models_pytorch as smp\n",
    "import time\n",
    "from PIL import Image\n",
    "from torch.autograd import Variable\n",
    "import numpy as np\n",
    "import pydensecrf.densecrf as dcrf"
   ]
  },
  {
   "cell_type": "code",
   "execution_count": 2,
   "metadata": {},
   "outputs": [
    {
     "name": "stderr",
     "output_type": "stream",
     "text": [
      "/home/makisechris/.local/lib/python3.7/site-packages/torch/serialization.py:454: SourceChangeWarning: source code of class 'vggunet.VggUNet' has changed. you can retrieve the original source code by accessing the object's source attribute or set `torch.nn.Module.dump_patches = True` and use the patch tool to revert the changes.\n",
      "  warnings.warn(msg, SourceChangeWarning)\n"
     ]
    }
   ],
   "source": [
    "use_cuda = True\n",
    "\n",
    "# Load model\n",
    "model1 = torch.load('./ensemble/nestedunet_pretrained_model40')\n",
    "model2 = torch.load('./ensemble/se_resnextunet_pretrained_model3')\n",
    "# model3 = torch.load('./ensemble/vggpspnet_pretrained_model20')\n",
    "model4 = torch.load('./ensemble/VggUnet_model47')\n",
    "model5 = torch.load('./ensemble/vggunet_pretrained_model19')\n",
    "# print(segnet_model)\n",
    "device = torch.device(\"cuda\" if use_cuda else \"cpu\")\n",
    "for model in [model1, model2, model4, model5]:\n",
    "    model = model.to(device)\n",
    "    model.eval()\n",
    "ds = FarmDataset(istrain=False, isaug=False, isval=False)"
   ]
  },
  {
   "cell_type": "code",
   "execution_count": 3,
   "metadata": {},
   "outputs": [],
   "source": [
    "def dense_crf(img, output_probs):\n",
    "    # img is an image-array, e.g. im.dtype == np.uint8 and im.shape == (3,xxx,xxx)\n",
    "    h = output_probs.shape[1]\n",
    "    w = output_probs.shape[2]\n",
    "\n",
    "    d = dcrf.DenseCRF2D(w, h, 5) # The last number is the number of class\n",
    "    U = -np.log(output_probs)\n",
    "    U = U.reshape((5, -1)) # The first is the number of class\n",
    "    U = np.ascontiguousarray(U)\n",
    "    img = np.ascontiguousarray(img)\n",
    "\n",
    "    d.setUnaryEnergy(U)\n",
    "\n",
    "    d.addPairwiseGaussian(sxy=20, compat=3)\n",
    "    d.addPairwiseBilateral(sxy=30, srgb=20, rgbim=img, compat=10)\n",
    "\n",
    "    Q = d.inference(5)\n",
    "    Q = np.argmax(np.array(Q), axis=0).reshape((h, w))\n",
    "\n",
    "    return Q"
   ]
  },
  {
   "cell_type": "code",
   "execution_count": null,
   "metadata": {},
   "outputs": [],
   "source": []
  },
  {
   "cell_type": "code",
   "execution_count": 4,
   "metadata": {},
   "outputs": [],
   "source": [
    "def predict(d, outputname='tmp.bmp'):\n",
    "    wx = d.RasterXSize   \n",
    "    wy = d.RasterYSize   \n",
    "    print(wx,wy)\n",
    "    od = data = np.zeros((wy,wx),np.uint8)\n",
    "    blocksize = 1024\n",
    "    step = 512\n",
    "    for cy in range(step,wy-blocksize,step):\n",
    "        print('current cy is: {}'.format(cy))\n",
    "        for cx in range(step,wx-blocksize,step):\n",
    "            img = d.ReadAsArray(cx-step,cy-step,blocksize,blocksize)[0:3,:,:] #channel*h*w\n",
    "            if (img.sum()==0): \n",
    "                continue\n",
    "        \n",
    "            x = torch.from_numpy(img/255.0).float()        \n",
    "            x = x.unsqueeze(0).to(device)\n",
    "            \n",
    "            # Use each model to do the prediction, save the result as probability of each class\n",
    "            img = img.transpose(1,2,0)\n",
    "            pre = []\n",
    "            for model in [model1, model2, model4, model5]:\n",
    "                i = F.avg_pool2d(x, 4)\n",
    "                model_pre = model.forward(i)\n",
    "                model_pre = F.interpolate(model_pre, mode='bilinear', scale_factor=4)\n",
    "                pre.append(model_pre)\n",
    "        \n",
    "            # Ensemble the probability result, then apply softmax and crf\n",
    "            r = 1.5 * pre[0] + 0.9 * pre[1] + 0.9 * pre[2] + 0.9 * pre[3]\n",
    "            r = F.softmax(r, dim=1)\n",
    "            r = r[0].cpu().data.numpy()\n",
    "            r = dense_crf(img, r)\n",
    "#             r = torch.argmax(r.cpu()[0],0).byte().numpy()  #512*512\n",
    "                    \n",
    "            od[cy-step//2:cy+step//2, cx-step//2:cx+step//2] = r[blocksize//4:step+blocksize//4, blocksize//4:step+blocksize//4]\n",
    "\n",
    "    cv2.imwrite('./tmp/upload/' + outputname, od)\n",
    "    cv2.imwrite('./tmp/obvious/' + outputname, od*60)\n",
    "    return"
   ]
  },
  {
   "cell_type": "code",
   "execution_count": 5,
   "metadata": {},
   "outputs": [
    {
     "name": "stdout",
     "output_type": "stream",
     "text": [
      "start predict.....\n",
      "43073 20115\n",
      "current cy is: 512\n"
     ]
    },
    {
     "name": "stderr",
     "output_type": "stream",
     "text": [
      "/home/makisechris/.local/lib/python3.7/site-packages/torch/nn/functional.py:2539: UserWarning: Default upsampling behavior when mode=bilinear is changed to align_corners=False since 0.4.0. Please specify align_corners=True if the old behavior is desired. See the documentation of nn.Upsample for details.\n",
      "  \"See the documentation of nn.Upsample for details.\".format(mode))\n",
      "/home/makisechris/anaconda3/lib/python3.7/site-packages/ipykernel_launcher.py:7: RuntimeWarning: divide by zero encountered in log\n",
      "  import sys\n"
     ]
    },
    {
     "name": "stdout",
     "output_type": "stream",
     "text": [
      "current cy is: 1024\n",
      "current cy is: 1536\n",
      "current cy is: 2048\n",
      "current cy is: 2560\n",
      "current cy is: 3072\n",
      "current cy is: 3584\n",
      "current cy is: 4096\n",
      "current cy is: 4608\n",
      "current cy is: 5120\n",
      "current cy is: 5632\n",
      "current cy is: 6144\n",
      "current cy is: 6656\n",
      "current cy is: 7168\n",
      "current cy is: 7680\n",
      "current cy is: 8192\n",
      "current cy is: 8704\n",
      "current cy is: 9216\n",
      "current cy is: 9728\n",
      "current cy is: 10240\n",
      "current cy is: 10752\n",
      "current cy is: 11264\n",
      "current cy is: 11776\n",
      "current cy is: 12288\n",
      "current cy is: 12800\n",
      "current cy is: 13312\n",
      "current cy is: 13824\n",
      "current cy is: 14336\n",
      "current cy is: 14848\n",
      "current cy is: 15360\n",
      "current cy is: 15872\n",
      "current cy is: 16384\n",
      "current cy is: 16896\n",
      "current cy is: 17408\n",
      "current cy is: 17920\n",
      "current cy is: 18432\n",
      "current cy is: 18944\n",
      "start predict 2 .....\n",
      "62806 21247\n",
      "current cy is: 512\n",
      "current cy is: 1024\n",
      "current cy is: 1536\n",
      "current cy is: 2048\n",
      "current cy is: 2560\n",
      "current cy is: 3072\n",
      "current cy is: 3584\n",
      "current cy is: 4096\n",
      "current cy is: 4608\n",
      "current cy is: 5120\n",
      "current cy is: 5632\n",
      "current cy is: 6144\n",
      "current cy is: 6656\n",
      "current cy is: 7168\n",
      "current cy is: 7680\n",
      "current cy is: 8192\n",
      "current cy is: 8704\n",
      "current cy is: 9216\n",
      "current cy is: 9728\n",
      "current cy is: 10240\n",
      "current cy is: 10752\n",
      "current cy is: 11264\n",
      "current cy is: 11776\n",
      "current cy is: 12288\n",
      "current cy is: 12800\n",
      "current cy is: 13312\n",
      "current cy is: 13824\n",
      "current cy is: 14336\n",
      "current cy is: 14848\n",
      "current cy is: 15360\n",
      "current cy is: 15872\n",
      "current cy is: 16384\n",
      "current cy is: 16896\n",
      "current cy is: 17408\n",
      "current cy is: 17920\n",
      "current cy is: 18432\n",
      "current cy is: 18944\n",
      "current cy is: 19456\n",
      "current cy is: 19968\n",
      "prediction time: 8394.469841003418\n"
     ]
    }
   ],
   "source": [
    "start = time.time()\n",
    "print(\"start predict.....\")\n",
    "predict(ds[0],'image_5_predict.png')\n",
    "print(\"start predict 2 .....\")\n",
    "predict(ds[1],'image_6_predict.png')\n",
    "end = time.time()\n",
    "print('prediction time: {}'.format(end - start))"
   ]
  },
  {
   "cell_type": "code",
   "execution_count": null,
   "metadata": {},
   "outputs": [],
   "source": []
  },
  {
   "cell_type": "code",
   "execution_count": null,
   "metadata": {},
   "outputs": [],
   "source": []
  },
  {
   "cell_type": "code",
   "execution_count": null,
   "metadata": {},
   "outputs": [],
   "source": []
  },
  {
   "cell_type": "code",
   "execution_count": null,
   "metadata": {},
   "outputs": [],
   "source": []
  },
  {
   "cell_type": "code",
   "execution_count": null,
   "metadata": {},
   "outputs": [],
   "source": []
  },
  {
   "cell_type": "code",
   "execution_count": null,
   "metadata": {},
   "outputs": [],
   "source": []
  },
  {
   "cell_type": "code",
   "execution_count": null,
   "metadata": {},
   "outputs": [],
   "source": []
  },
  {
   "cell_type": "code",
   "execution_count": null,
   "metadata": {},
   "outputs": [],
   "source": []
  },
  {
   "cell_type": "code",
   "execution_count": null,
   "metadata": {},
   "outputs": [],
   "source": []
  },
  {
   "cell_type": "code",
   "execution_count": null,
   "metadata": {},
   "outputs": [],
   "source": []
  },
  {
   "cell_type": "code",
   "execution_count": null,
   "metadata": {},
   "outputs": [],
   "source": []
  }
 ],
 "metadata": {
  "kernelspec": {
   "display_name": "Python 3",
   "language": "python",
   "name": "python3"
  },
  "language_info": {
   "codemirror_mode": {
    "name": "ipython",
    "version": 3
   },
   "file_extension": ".py",
   "mimetype": "text/x-python",
   "name": "python",
   "nbconvert_exporter": "python",
   "pygments_lexer": "ipython3",
   "version": "3.7.3"
  }
 },
 "nbformat": 4,
 "nbformat_minor": 2
}
