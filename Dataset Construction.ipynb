{
 "cells": [
  {
   "cell_type": "code",
   "execution_count": 5,
   "metadata": {},
   "outputs": [],
   "source": [
    "import cv2\n",
    "from PIL import Image\n",
    "import gdal\n",
    "import numpy as np\n",
    "import time"
   ]
  },
  {
   "cell_type": "code",
   "execution_count": 7,
   "metadata": {},
   "outputs": [
    {
     "name": "stdout",
     "output_type": "stream",
     "text": [
      "44343\n",
      "33603\n",
      "18576\n",
      "68363\n",
      "44647\n",
      "32881\n",
      "55128\n",
      "49447\n"
     ]
    }
   ],
   "source": [
    "for n in ['10', '11', '20', '21']:\n",
    "    imagedata = gdal.Open('./jingwei_round2_train_20190726/image_' + n + '.png')\n",
    "    labeldata = gdal.Open('./jingwei_round2_train_20190726/image_' + n + '_label.png')\n",
    "    wx=imagedata.RasterXSize\n",
    "    wy=imagedata.RasterYSize\n",
    "    print(\"wx:{} wy:{}\".format(wx, wy))\n",
    "\n",
    "    # Set the step size and image size, disregard the image with too much blank\n",
    "    step = 512\n",
    "    windowsize = 1024\n",
    "    nullthresh = windowsize * windowsize * 0.8\n",
    "    cx, cy = 0, 0\n",
    "    while cy+windowsize < wy:\n",
    "        cx = 0\n",
    "        while cx+windowsize < wx:\n",
    "            image = imagedata.ReadAsArray(cx, cy, windowsize, windowsize) # 4x1024x1024 \n",
    "            image = image[:3,:,:].transpose(1,2,0) # 1024x1024x3, delete the 4th channel and transpose to RGB\n",
    "            label = labeldata.ReadAsArray(cx, cy, windowsize, windowsize)\n",
    "            \n",
    "            if (image[:,:,0]==0).sum() > nullthresh:\n",
    "                cx += step\n",
    "                continue\n",
    "            \n",
    "            # Randomly split train/val with propotion 9:1\n",
    "            if np.random.random() < 0.1:          \n",
    "                image_val = Image.fromarray(image, 'RGB')\n",
    "                image_val.save('./data/val/data1024/'+n+'_{}_{}.png'.format(cx,cy))\n",
    "                label_val = Image.fromarray(label).convert('L')\n",
    "                label_val.save('./data/val/label1024/'+n+'_{}_{}.png'.format(cx,cy))\n",
    "            else:\n",
    "                image_train = Image.fromarray(image, 'RGB')\n",
    "                image_train.save('./data/train/data1024/'+n+'_{}_{}.png'.format(cx,cy))\n",
    "                label_train = Image.fromarray(label).convert('L')\n",
    "                label_train.save('./data/train/label1024/'+n+'_{}_{}.png'.format(cx,cy))             \n",
    " \n",
    "            cx+=step\n",
    "        cy+=step"
   ]
  },
  {
   "cell_type": "code",
   "execution_count": null,
   "metadata": {},
   "outputs": [],
   "source": []
  },
  {
   "cell_type": "code",
   "execution_count": null,
   "metadata": {},
   "outputs": [],
   "source": []
  },
  {
   "cell_type": "code",
   "execution_count": null,
   "metadata": {},
   "outputs": [],
   "source": []
  },
  {
   "cell_type": "code",
   "execution_count": null,
   "metadata": {},
   "outputs": [],
   "source": []
  },
  {
   "cell_type": "code",
   "execution_count": null,
   "metadata": {},
   "outputs": [],
   "source": []
  },
  {
   "cell_type": "code",
   "execution_count": null,
   "metadata": {},
   "outputs": [],
   "source": []
  },
  {
   "cell_type": "code",
   "execution_count": null,
   "metadata": {},
   "outputs": [],
   "source": []
  },
  {
   "cell_type": "code",
   "execution_count": null,
   "metadata": {},
   "outputs": [],
   "source": []
  },
  {
   "cell_type": "code",
   "execution_count": null,
   "metadata": {},
   "outputs": [],
   "source": []
  }
 ],
 "metadata": {
  "kernelspec": {
   "display_name": "Python 3",
   "language": "python",
   "name": "python3"
  },
  "language_info": {
   "codemirror_mode": {
    "name": "ipython",
    "version": 3
   },
   "file_extension": ".py",
   "mimetype": "text/x-python",
   "name": "python",
   "nbconvert_exporter": "python",
   "pygments_lexer": "ipython3",
   "version": "3.7.3"
  }
 },
 "nbformat": 4,
 "nbformat_minor": 2
}
